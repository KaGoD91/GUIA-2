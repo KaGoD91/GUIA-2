{
  "nbformat": 4,
  "nbformat_minor": 0,
  "metadata": {
    "colab": {
      "provenance": [],
      "include_colab_link": true
    },
    "kernelspec": {
      "name": "python3",
      "display_name": "Python 3"
    },
    "language_info": {
      "name": "python"
    }
  },
  "cells": [
    {
      "cell_type": "markdown",
      "metadata": {
        "id": "view-in-github",
        "colab_type": "text"
      },
      "source": [
        "<a href=\"https://colab.research.google.com/github/KaGoD91/GUIA-2/blob/main/Guia_2.ipynb\" target=\"_parent\"><img src=\"https://colab.research.google.com/assets/colab-badge.svg\" alt=\"Open In Colab\"/></a>"
      ]
    },
    {
      "cell_type": "markdown",
      "source": [
        "# **Guía 2**\n",
        "\n",
        "Objetivo: aplicar los conceptos de Pandas en la manipulación y análisis de datos estructurados. Se trabajará con Series y DataFrames, aplicando técnicas de acceso, selección, filtrado y agregación de datos.\n",
        "\n",
        "### **Caso de Negocio: Análisis de Deserción de Clientes en una Empresa de Telecomunicaciones**\n",
        "\n",
        "**Contexto**\n",
        "\n",
        "En la industria de las telecomunicaciones, la retención de clientes es un factor crítico para la sostenibilidad del negocio. La competencia es feroz y adquirir nuevos clientes suele ser más costoso que mantener a los actuales. En este análisis, exploraremos un conjunto de datos que contiene información detallada sobre clientes que han abandonado el servicio (churn) y aquellos que permanecen activos.\n",
        "\n",
        "Nuestro objetivo es identificar los factores clave que influyen en la deserción, comprender patrones de comportamiento y generar estrategias efectivas para reducir la tasa de abandono.\n",
        "\n",
        "La empresa ha experimentado un aumento en la tasa de deserción de clientes, lo que ha provocado:\n",
        "- Pérdida de ingresos recurrentes.\n",
        "- Incremento en los costos de adquisición de nuevos clientes.\n",
        "- Menor estabilidad en la base de clientes a largo plazo.\n",
        "\n",
        "Para abordar esta problemática, es crucial identificar las razones detrás de la deserción y desarrollar estrategias para mejorar la retención de clientes.\n",
        "\n"
      ],
      "metadata": {
        "id": "sVxeQki8vRXz"
      }
    },
    {
      "cell_type": "markdown",
      "source": [
        "**Entrega del Trabajo**\n",
        "\n",
        "Los estudiantes deben trabajar en grupos de entre 2 y 4 personas. Cada grupo deberá subir su trabajo a un repositorio de GitHub, asegurándose de que el código y los archivos necesarios estén bien organizados y documentados. Posteriormente, deberán enviar el enlace del repositorio en la plataforma Canvas para su evaluación.\n",
        "\n",
        "Instrucciones para la entrega:\n",
        "\n",
        "Crear un repositorio en GitHub con un nombre descriptivo para el proyecto.\n",
        "\n",
        "Subir el código en Jupyter Notebook (.ipynb) o en formato Python (.py).\n",
        "\n",
        "Incluir un archivo README.md con una breve descripción del trabajo y las instrucciones de ejecución.\n",
        "\n",
        "Compartir el enlace del repositorio en Canvas dentro del plazo establecido.\n",
        "\n"
      ],
      "metadata": {
        "id": "TBsud25XSR0w"
      }
    },
    {
      "cell_type": "markdown",
      "source": [
        "**Descripción de las variables del dataset telecom_churn**\n",
        "\n",
        "El dataset telecom_churn contiene información detallada sobre clientes de una empresa de telecomunicaciones, incluyendo datos generales, planes contratados, uso del servicio telefónico y llamadas al servicio al cliente. Su propósito principal es analizar patrones de deserción de clientes, identificados a través de la variable churn, que indica si un cliente ha abandonado la empresa (1) o sigue siendo cliente (0).\n",
        "\n",
        "Dentro del dataset, encontramos información general como el estado (state) donde reside el cliente, el código de área (area code), y el número de teléfono (phone number), aunque esta última variable no aporta información útil para el análisis, ya que es un identificador único.\n",
        "\n",
        "Además, el dataset registra el tiempo que un cliente ha estado en la empresa a través de la variable account length, lo que puede ayudar a analizar si la duración del contrato influye en la deserción. También se incluyen detalles sobre los planes contratados, como si el cliente tiene un plan internacional (international plan), que le permite realizar llamadas internacionales, o un buzón de voz (voice mail plan), que le permite recibir mensajes de voz.\n",
        "\n",
        "En cuanto al uso del servicio, se registran datos detallados sobre el tiempo en llamadas y los costos asociados. Se divide en tres períodos del día: diurno (total day minutes, total day calls, total day charge), vespertino (total eve minutes, total eve calls, total eve charge) y nocturno (total night minutes, total night calls, total night charge), lo que permite evaluar si hay patrones de consumo que influyen en la deserción. También se incluye información sobre el uso del servicio internacional, con variables como total intl minutes (minutos en llamadas internacionales), total intl calls (cantidad de llamadas internacionales) y total intl charge (costos por llamadas internacionales).\n",
        "\n",
        "Otro aspecto clave del dataset es el número de llamadas al servicio al cliente (customer service calls), ya que una mayor cantidad de llamadas puede indicar insatisfacción y estar relacionada con la decisión del cliente de abandonar la empresa.\n",
        "\n",
        "Finalmente, la variable más importante del análisis es churn, que indica si un cliente ha desertado de la empresa. A partir de esta variable, podemos analizar qué factores influyen en la deserción y encontrar patrones en los clientes que tienen mayor probabilidad de abandonar el servicio.\n"
      ],
      "metadata": {
        "id": "R1eyqBGSScta"
      }
    },
    {
      "cell_type": "markdown",
      "source": [
        "**Exploración y Limpieza de Datos**\n",
        "\n",
        "Cargar y explorar el dataset\n",
        "\n",
        "Importa Pandas y carga el dataset telecom_churn.csv en un DataFrame.\n",
        "\n",
        "Muestra las primeras 5 filas del DataFrame.\n",
        "\n",
        "Verifica cuántas filas y columnas tiene el dataset.\n",
        "\n",
        "Muestra información general del dataset, incluyendo los tipos de datos.\n",
        "\n",
        "Identifica si hay valores nulos en alguna columna."
      ],
      "metadata": {
        "id": "-gqRGJ8yFs5Y"
      }
    },
    {
      "cell_type": "code",
      "execution_count": 2,
      "metadata": {
        "id": "wuoyvrE0vQ09",
        "colab": {
          "base_uri": "https://localhost:8080/"
        },
        "outputId": "2c4c0e0e-2e78-4247-940f-0c16cf0b5a9f"
      },
      "outputs": [
        {
          "output_type": "stream",
          "name": "stdout",
          "text": [
            "  state  account length  area code phone number international plan  \\\n",
            "0    KS             128        415     382-4657                 no   \n",
            "1    OH             107        415     371-7191                 no   \n",
            "2    NJ             137        415     358-1921                 no   \n",
            "3    OH              84        408     375-9999                yes   \n",
            "4    OK              75        415     330-6626                yes   \n",
            "\n",
            "  voice mail plan  number vmail messages  total day minutes  total day calls  \\\n",
            "0             yes                     25              265.1              110   \n",
            "1             yes                     26              161.6              123   \n",
            "2              no                      0              243.4              114   \n",
            "3              no                      0              299.4               71   \n",
            "4              no                      0              166.7              113   \n",
            "\n",
            "   total day charge  ...  total eve calls  total eve charge  \\\n",
            "0             45.07  ...               99             16.78   \n",
            "1             27.47  ...              103             16.62   \n",
            "2             41.38  ...              110             10.30   \n",
            "3             50.90  ...               88              5.26   \n",
            "4             28.34  ...              122             12.61   \n",
            "\n",
            "   total night minutes  total night calls  total night charge  \\\n",
            "0                244.7                 91               11.01   \n",
            "1                254.4                103               11.45   \n",
            "2                162.6                104                7.32   \n",
            "3                196.9                 89                8.86   \n",
            "4                186.9                121                8.41   \n",
            "\n",
            "   total intl minutes  total intl calls  total intl charge  \\\n",
            "0                10.0                 3               2.70   \n",
            "1                13.7                 3               3.70   \n",
            "2                12.2                 5               3.29   \n",
            "3                 6.6                 7               1.78   \n",
            "4                10.1                 3               2.73   \n",
            "\n",
            "   customer service calls  churn  \n",
            "0                       1  False  \n",
            "1                       1  False  \n",
            "2                       0  False  \n",
            "3                       2  False  \n",
            "4                       3  False  \n",
            "\n",
            "[5 rows x 21 columns]\n",
            "(3333, 21)\n",
            "<class 'pandas.core.frame.DataFrame'>\n",
            "RangeIndex: 3333 entries, 0 to 3332\n",
            "Data columns (total 21 columns):\n",
            " #   Column                  Non-Null Count  Dtype  \n",
            "---  ------                  --------------  -----  \n",
            " 0   state                   3333 non-null   object \n",
            " 1   account length          3333 non-null   int64  \n",
            " 2   area code               3333 non-null   int64  \n",
            " 3   phone number            3333 non-null   object \n",
            " 4   international plan      3333 non-null   object \n",
            " 5   voice mail plan         3333 non-null   object \n",
            " 6   number vmail messages   3333 non-null   int64  \n",
            " 7   total day minutes       3333 non-null   float64\n",
            " 8   total day calls         3333 non-null   int64  \n",
            " 9   total day charge        3333 non-null   float64\n",
            " 10  total eve minutes       3333 non-null   float64\n",
            " 11  total eve calls         3333 non-null   int64  \n",
            " 12  total eve charge        3333 non-null   float64\n",
            " 13  total night minutes     3333 non-null   float64\n",
            " 14  total night calls       3333 non-null   int64  \n",
            " 15  total night charge      3333 non-null   float64\n",
            " 16  total intl minutes      3333 non-null   float64\n",
            " 17  total intl calls        3333 non-null   int64  \n",
            " 18  total intl charge       3333 non-null   float64\n",
            " 19  customer service calls  3333 non-null   int64  \n",
            " 20  churn                   3333 non-null   bool   \n",
            "dtypes: bool(1), float64(8), int64(8), object(4)\n",
            "memory usage: 524.2+ KB\n",
            "None\n",
            "state                     0\n",
            "account length            0\n",
            "area code                 0\n",
            "phone number              0\n",
            "international plan        0\n",
            "voice mail plan           0\n",
            "number vmail messages     0\n",
            "total day minutes         0\n",
            "total day calls           0\n",
            "total day charge          0\n",
            "total eve minutes         0\n",
            "total eve calls           0\n",
            "total eve charge          0\n",
            "total night minutes       0\n",
            "total night calls         0\n",
            "total night charge        0\n",
            "total intl minutes        0\n",
            "total intl calls          0\n",
            "total intl charge         0\n",
            "customer service calls    0\n",
            "churn                     0\n",
            "dtype: int64\n"
          ]
        }
      ],
      "source": [
        "# Solución propuesta\n",
        "\n",
        "import pandas as pd\n",
        "\n",
        "# Cargar el dataset desde Google Colab\n",
        "df = pd.read_csv('/content/telecom_churn.csv')\n",
        "\n",
        "# Mostrar las primeras 5 filas del DataFrame\n",
        "print(df.head())\n",
        "\n",
        "# Verificar cuántas filas y columnas tiene el dataset\n",
        "print(df.shape)\n",
        "\n",
        "# Mostrar información general del dataset, incluyendo los tipos de datos\n",
        "print(df.info())\n",
        "\n",
        "# Identificar si hay valores nulos en alguna columna\n",
        "print(df.isnull().sum())\n"
      ]
    },
    {
      "cell_type": "markdown",
      "source": [
        "**Análisis de Churn y Factores Relacionados**\n",
        "\n",
        "Calcula el porcentaje de clientes que han desertado (churn = 1).\n",
        "\n",
        "Identifica si los clientes con plan internacional (international plan) tienen mayor tasa de deserción.\n",
        "\n",
        "Identifica si los clientes con buzón de voz (voice mail plan) tienen menor tasa de deserción."
      ],
      "metadata": {
        "id": "PIGXq-ijFgb4"
      }
    },
    {
      "cell_type": "code",
      "source": [
        "# Solución propuesta\n",
        "\n",
        "# Calcular el porcentaje de clientes que han desertado (churn = 1)\n",
        "churn_rate = df['churn'].mean() * 100\n",
        "print(f'Churn Rate: {churn_rate:.2f}%')\n",
        "\n",
        "# Identificar si los clientes con plan internacional (international plan) tienen mayor tasa de deserción\n",
        "churn_international = df[df['international plan'] == 'yes']['churn'].mean() * 100\n",
        "churn_no_international = df[df['international plan'] == 'no']['churn'].mean() * 100\n",
        "print(f'Tasa de deserción con plan internacional: {churn_international:.2f}%')\n",
        "print(f'Tasa de deserción sin plan internacional: {churn_no_international:.2f}%')\n",
        "\n",
        "# Identificar si los clientes con buzón de voz (voice mail plan) tienen menor tasa de deserción\n",
        "churn_voice_mail = df[df['voice mail plan'] == 'yes']['churn'].mean() * 100\n",
        "churn_no_voice_mail = df[df['voice mail plan'] == 'no']['churn'].mean() * 100\n",
        "print(f'Tasa de deserción con buzón de voz: {churn_voice_mail:.2f}%')\n",
        "print(f'Tasa de deserción sin buzón de voz: {churn_no_voice_mail:.2f}%')\n"
      ],
      "metadata": {
        "id": "3_TFqdwBwUD-",
        "colab": {
          "base_uri": "https://localhost:8080/"
        },
        "outputId": "316375c0-e90a-4f06-91c9-4c69abe9e58e"
      },
      "execution_count": 3,
      "outputs": [
        {
          "output_type": "stream",
          "name": "stdout",
          "text": [
            "Churn Rate: 14.49%\n",
            "Tasa de deserción con plan internacional: 42.41%\n",
            "Tasa de deserción sin plan internacional: 11.50%\n",
            "Tasa de deserción con buzón de voz: 8.68%\n",
            "Tasa de deserción sin buzón de voz: 16.72%\n"
          ]
        }
      ]
    },
    {
      "cell_type": "markdown",
      "source": [
        "**Análisis de la Duración del Servicio y Deserción**\n",
        "\n",
        "¿Cuál es la duración promedio de la cuenta (account length) entre clientes que desertaron y los que permanecen?\n",
        "\n",
        "¿Los clientes con cuentas más antiguas tienen más probabilidades de desertar?"
      ],
      "metadata": {
        "id": "yL8Y_juFFup7"
      }
    },
    {
      "cell_type": "code",
      "source": [
        "# Solución propuesta\n",
        "\n",
        "# Duración promedio de la cuenta (account length) entre clientes que desertaron y los que permanecen\n",
        "avg_account_length_churn = df[df['churn'] == 1]['account length'].mean()\n",
        "avg_account_length_no_churn = df[df['churn'] == 0]['account length'].mean()\n",
        "print(f'Duración promedio de la cuenta para clientes que desertaron: {avg_account_length_churn:.2f}')\n",
        "print(f'Duración promedio de la cuenta para clientes que permanecen: {avg_account_length_no_churn:.2f}')\n",
        "\n",
        "# ¿Clientes con cuentas más antiguas tienen más probabilidades de desertar?\n",
        "correlation = df['account length'].corr(df['churn'])\n",
        "print(f'Correlación entre duración de la cuenta y deserción: {correlation:.2f}')\n"
      ],
      "metadata": {
        "id": "7ViU0n6lGFao",
        "colab": {
          "base_uri": "https://localhost:8080/"
        },
        "outputId": "f34b785d-c848-4dba-e26c-da158e27c315"
      },
      "execution_count": 4,
      "outputs": [
        {
          "output_type": "stream",
          "name": "stdout",
          "text": [
            "Duración promedio de la cuenta para clientes que desertaron: 102.66\n",
            "Duración promedio de la cuenta para clientes que permanecen: 100.79\n",
            "Correlación entre duración de la cuenta y deserción: 0.02\n"
          ]
        }
      ]
    },
    {
      "cell_type": "markdown",
      "source": [
        "**Relación entre Deserción y Uso del Servicio**\n",
        "\n",
        "Compara la cantidad de minutos usados en llamadas diurnas (total day minutes) entre clientes con y sin churn.\n",
        "\n",
        "Compara la cantidad de minutos usados en llamadas nocturnas (total night minutes).\n",
        "\n",
        "Compara el número total de llamadas (total day calls) entre clientes con y sin churn."
      ],
      "metadata": {
        "id": "vyaa82K0GF6B"
      }
    },
    {
      "cell_type": "code",
      "source": [
        "# Solución propuesta\n",
        "\n",
        "# Compara la cantidad de minutos usados en llamadas diurnas (total day minutes) entre clientes con y sin churn\n",
        "avg_day_minutes_churn = df[df['churn'] == 1]['total day minutes'].mean()\n",
        "avg_day_minutes_no_churn = df[df['churn'] == 0]['total day minutes'].mean()\n",
        "print(f'Minutos diurnos para clientes con churn: {avg_day_minutes_churn:.2f}')\n",
        "print(f'Minutos diurnos para clientes sin churn: {avg_day_minutes_no_churn:.2f}')\n",
        "\n",
        "# Compara la cantidad de minutos usados en llamadas nocturnas (total night minutes)\n",
        "avg_night_minutes_churn = df[df['churn'] == 1]['total night minutes'].mean()\n",
        "avg_night_minutes_no_churn = df[df['churn'] == 0]['total night minutes'].mean()\n",
        "print(f'Minutos nocturnos para clientes con churn: {avg_night_minutes_churn:.2f}')\n",
        "print(f'Minutos nocturnos para clientes sin churn: {avg_night_minutes_no_churn:.2f}')\n",
        "\n",
        "# Compara el número total de llamadas (total day calls) entre clientes con y sin churn\n",
        "avg_day_calls_churn = df[df['churn'] == 1]['total day calls'].mean()\n",
        "avg_day_calls_no_churn = df[df['churn'] == 0]['total day calls'].mean()\n",
        "print(f'Número total de llamadas diurnas para clientes con churn: {avg_day_calls_churn:.2f}')\n",
        "print(f'Número total de llamadas diurnas para clientes sin churn: {avg_day_calls_no_churn:.2f}')\n"
      ],
      "metadata": {
        "id": "d4aPKcv2GrpL",
        "colab": {
          "base_uri": "https://localhost:8080/"
        },
        "outputId": "bbf99f9e-01bb-4b32-b0f1-fba1645d6ecc"
      },
      "execution_count": 5,
      "outputs": [
        {
          "output_type": "stream",
          "name": "stdout",
          "text": [
            "Minutos diurnos para clientes con churn: 206.91\n",
            "Minutos diurnos para clientes sin churn: 175.18\n",
            "Minutos nocturnos para clientes con churn: 205.23\n",
            "Minutos nocturnos para clientes sin churn: 200.13\n",
            "Número total de llamadas diurnas para clientes con churn: 101.34\n",
            "Número total de llamadas diurnas para clientes sin churn: 100.28\n"
          ]
        }
      ]
    },
    {
      "cell_type": "markdown",
      "source": [
        "**Impacto de las Llamadas al Servicio al Cliente en la Deserción**\n",
        "\n",
        "Calcula el número promedio de llamadas al servicio al cliente (customer service calls) entre clientes que desertaron y los que no.\n",
        "\n",
        "Divide los clientes en dos grupos:\n",
        "\n",
        "- Grupo 1: Clientes que llamaron más de 3 veces al servicio al cliente.\n",
        "- Grupo 2: Clientes que llamaron 3 veces o menos.\n",
        "Compara la tasa de churn entre ambos grupos."
      ],
      "metadata": {
        "id": "aKl9LnZgGsDT"
      }
    },
    {
      "cell_type": "code",
      "source": [
        "# Solución propuesta\n",
        "\n",
        "# Calcula el número promedio de llamadas al servicio al cliente (customer service calls) entre clientes que desertaron y los que no\n",
        "avg_cs_calls_churn = df[df['churn'] == 1]['customer service calls'].mean()\n",
        "avg_cs_calls_no_churn = df[df['churn'] == 0]['customer service calls'].mean()\n",
        "print(f'Número promedio de llamadas al servicio al cliente para clientes con churn: {avg_cs_calls_churn:.2f}')\n",
        "print(f'Número promedio de llamadas al servicio al cliente para clientes sin churn: {avg_cs_calls_no_churn:.2f}')\n",
        "\n",
        "# Divide los clientes en dos grupos y compara la tasa de churn entre ambos grupos\n",
        "group_1 = df[df['customer service calls'] > 3]['churn'].mean() * 100\n",
        "group_2 = df[df['customer service calls'] <= 3]['churn'].mean() * 100\n",
        "print(f'Tasa de churn para clientes que llamaron más de 3 veces: {group_1:.2f}%')\n",
        "print(f'Tasa de churn para clientes que llamaron 3 veces o menos: {group_2:.2f}%')\n"
      ],
      "metadata": {
        "id": "ac9qDXgrGz-M",
        "colab": {
          "base_uri": "https://localhost:8080/"
        },
        "outputId": "f25a52f1-3b66-4e1f-c3ae-acfbe4b209b8"
      },
      "execution_count": 6,
      "outputs": [
        {
          "output_type": "stream",
          "name": "stdout",
          "text": [
            "Número promedio de llamadas al servicio al cliente para clientes con churn: 2.23\n",
            "Número promedio de llamadas al servicio al cliente para clientes sin churn: 1.45\n",
            "Tasa de churn para clientes que llamaron más de 3 veces: 51.69%\n",
            "Tasa de churn para clientes que llamaron 3 veces o menos: 11.25%\n"
          ]
        }
      ]
    },
    {
      "cell_type": "markdown",
      "source": [
        "**Análisis del Costo de las Llamadas y Churn**\n",
        "\n",
        "Compara el costo total de llamadas diurnas (total day charge) entre clientes con y sin churn.\n",
        "\n",
        "Compara el costo total de llamadas nocturnas (total night charge).\n",
        "\n",
        "¿Los clientes con mayor gasto en llamadas internacionales (total intl charge) tienen más probabilidades de desertar?"
      ],
      "metadata": {
        "id": "U7oTziiyG0Wb"
      }
    },
    {
      "cell_type": "code",
      "source": [
        "# Solución propuesta\n",
        "\n",
        "# Compara el costo total de llamadas diurnas (total day charge) entre clientes con y sin churn\n",
        "avg_day_charge_churn = df[df['churn'] == 1]['total day charge'].mean()\n",
        "avg_day_charge_no_churn = df[df['churn'] == 0]['total day charge'].mean()\n",
        "print(f'Costo de llamadas diurnas para clientes con churn: {avg_day_charge_churn:.2f}')\n",
        "print(f'Costo de llamadas diurnas para clientes sin churn: {avg_day_charge_no_churn:.2f}')\n",
        "\n",
        "# Compara el costo total de llamadas nocturnas (total night charge)\n",
        "avg_night_charge_churn = df[df['churn'] == 1]['total night charge'].mean()\n",
        "avg_night_charge_no_churn = df[df['churn'] == 0]['total night charge'].mean()\n",
        "print(f'Costo de llamadas nocturnas para clientes con churn: {avg_night_charge_churn:.2f}')\n",
        "print(f'Costo de llamadas nocturnas para clientes sin churn: {avg_night_charge_no_churn:.2f}')\n",
        "\n",
        "# ¿Clientes con mayor gasto en llamadas internacionales (total intl charge) tienen más probabilidades de desertar?\n",
        "correlation_intl_charge_churn = df['total intl charge'].corr(df['churn'])\n",
        "print(f'Correlación entre gasto en llamadas internacionales y deserción: {correlation_intl_charge_churn:.2f}')\n",
        "\n",
        "\n"
      ],
      "metadata": {
        "id": "YWGmcLdoIYwx",
        "colab": {
          "base_uri": "https://localhost:8080/"
        },
        "outputId": "93ce4c78-de15-416d-88ad-8bde488397b2"
      },
      "execution_count": 7,
      "outputs": [
        {
          "output_type": "stream",
          "name": "stdout",
          "text": [
            "Costo de llamadas diurnas para clientes con churn: 35.18\n",
            "Costo de llamadas diurnas para clientes sin churn: 29.78\n",
            "Costo de llamadas nocturnas para clientes con churn: 9.24\n",
            "Costo de llamadas nocturnas para clientes sin churn: 9.01\n",
            "Correlación entre gasto en llamadas internacionales y deserción: 0.07\n"
          ]
        }
      ]
    }
  ]
}